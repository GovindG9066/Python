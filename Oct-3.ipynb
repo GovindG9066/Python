{
 "cells": [
  {
   "cell_type": "code",
   "execution_count": null,
   "id": "2b0fcfe6-d3a0-45cb-86c6-9c00be0b6779",
   "metadata": {},
   "outputs": [],
   "source": []
  }
 ],
 "metadata": {
  "kernelspec": {
   "display_name": "",
   "name": ""
  },
  "language_info": {
   "name": ""
  }
 },
 "nbformat": 4,
 "nbformat_minor": 5
}
