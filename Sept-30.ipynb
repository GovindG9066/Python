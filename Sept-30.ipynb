{
 "cells": [
  {
   "cell_type": "code",
   "execution_count": 1,
   "id": "2a1e506e-54f3-49f5-a8c6-fd9314ec4ed9",
   "metadata": {},
   "outputs": [
    {
     "name": "stdout",
     "output_type": "stream",
     "text": [
      "Sept-30\n"
     ]
    }
   ],
   "source": [
    "print(\"Sept-30\")"
   ]
  },
  {
   "cell_type": "code",
   "execution_count": 3,
   "id": "c6a3c194-1ff1-4364-9476-dffd87895b9f",
   "metadata": {},
   "outputs": [
    {
     "ename": "AttributeError",
     "evalue": "'solution' object has no attribute 'first'",
     "output_type": "error",
     "traceback": [
      "\u001b[1;31m---------------------------------------------------------------------------\u001b[0m",
      "\u001b[1;31mAttributeError\u001b[0m                            Traceback (most recent call last)",
      "Cell \u001b[1;32mIn[3], line 7\u001b[0m\n\u001b[0;32m      4\u001b[0m         \u001b[38;5;28mprint\u001b[39m(\u001b[38;5;124m\"\u001b[39m\u001b[38;5;124mResult is :\u001b[39m\u001b[38;5;124m\"\u001b[39m,result)\n\u001b[0;32m      6\u001b[0m s\u001b[38;5;241m=\u001b[39msolution()\n\u001b[1;32m----> 7\u001b[0m s\u001b[38;5;241m.\u001b[39maddition(\u001b[38;5;241m15\u001b[39m,\u001b[38;5;241m25\u001b[39m)\n",
      "Cell \u001b[1;32mIn[3], line 3\u001b[0m, in \u001b[0;36msolution.addition\u001b[1;34m(self, first, second)\u001b[0m\n\u001b[0;32m      2\u001b[0m \u001b[38;5;28;01mdef\u001b[39;00m \u001b[38;5;21maddition\u001b[39m(\u001b[38;5;28mself\u001b[39m,first,second):\n\u001b[1;32m----> 3\u001b[0m     result\u001b[38;5;241m=\u001b[39m\u001b[38;5;28mself\u001b[39m\u001b[38;5;241m.\u001b[39mfirst\u001b[38;5;241m+\u001b[39m\u001b[38;5;28mself\u001b[39m\u001b[38;5;241m.\u001b[39msecond\n\u001b[0;32m      4\u001b[0m     \u001b[38;5;28mprint\u001b[39m(\u001b[38;5;124m\"\u001b[39m\u001b[38;5;124mResult is :\u001b[39m\u001b[38;5;124m\"\u001b[39m,result)\n",
      "\u001b[1;31mAttributeError\u001b[0m: 'solution' object has no attribute 'first'"
     ]
    }
   ],
   "source": [
    "class solution:\n",
    "    def addition(self,first,second):\n",
    "        result=self.first+self.second\n",
    "        print(\"Result is :\",result)\n",
    "\n",
    "s=solution()\n",
    "s.addition(15,25)"
   ]
  },
  {
   "cell_type": "code",
   "execution_count": null,
   "id": "a7fa4725-8820-414a-a9bd-71485618d6fa",
   "metadata": {},
   "outputs": [],
   "source": []
  }
 ],
 "metadata": {
  "kernelspec": {
   "display_name": "Python [conda env:base] *",
   "language": "python",
   "name": "conda-base-py"
  },
  "language_info": {
   "codemirror_mode": {
    "name": "ipython",
    "version": 3
   },
   "file_extension": ".py",
   "mimetype": "text/x-python",
   "name": "python",
   "nbconvert_exporter": "python",
   "pygments_lexer": "ipython3",
   "version": "3.12.7"
  }
 },
 "nbformat": 4,
 "nbformat_minor": 5
}
