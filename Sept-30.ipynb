{
 "cells": [
  {
   "cell_type": "code",
   "execution_count": null,
   "id": "2a1e506e-54f3-49f5-a8c6-fd9314ec4ed9",
   "metadata": {},
   "outputs": [],
   "source": []
  }
 ],
 "metadata": {
  "kernelspec": {
   "display_name": "",
   "name": ""
  },
  "language_info": {
   "name": ""
  }
 },
 "nbformat": 4,
 "nbformat_minor": 5
}
