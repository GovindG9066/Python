{
 "cells": [
  {
   "cell_type": "code",
   "execution_count": 1,
   "id": "2a1e506e-54f3-49f5-a8c6-fd9314ec4ed9",
   "metadata": {},
   "outputs": [
    {
     "name": "stdout",
     "output_type": "stream",
     "text": [
      "Sept-30\n"
     ]
    }
   ],
   "source": [
    "print(\"Sept-30\")"
   ]
  },
  {
   "cell_type": "code",
   "execution_count": 5,
   "id": "c6a3c194-1ff1-4364-9476-dffd87895b9f",
   "metadata": {},
   "outputs": [
    {
     "name": "stdout",
     "output_type": "stream",
     "text": [
      "Result is : 40\n"
     ]
    }
   ],
   "source": [
    "class solution:\n",
    "    def addition(self,first,second):\n",
    "        result=first+second\n",
    "        print(\"Result is :\",result)\n",
    "\n",
    "s=solution()\n",
    "s.addition(15,25)"
   ]
  },
  {
   "cell_type": "code",
   "execution_count": 17,
   "id": "a7fa4725-8820-414a-a9bd-71485618d6fa",
   "metadata": {},
   "outputs": [
    {
     "name": "stdin",
     "output_type": "stream",
     "text": [
      "Enter a First Number :  22\n",
      "Enter a Second Number :  23\n"
     ]
    },
    {
     "name": "stdout",
     "output_type": "stream",
     "text": [
      "+,-,*,/,**,//\n"
     ]
    },
    {
     "name": "stdin",
     "output_type": "stream",
     "text": [
      "Enter The Operation : //\n"
     ]
    },
    {
     "name": "stdout",
     "output_type": "stream",
     "text": [
      "0\n"
     ]
    }
   ],
   "source": [
    "first=int(input(\"Enter a First Number : \"))\n",
    "second=int(input(\"Enter a Second Number : \"))\n",
    "print(\"+,-,*,/,**,//\")\n",
    "\n",
    "sign=input(\"Enter The Operation :\")\n",
    "\n",
    "def add(a,b):\n",
    "    return a+b\n",
    "\n",
    "def sub(a,b):\n",
    "    return a-b\n",
    "\n",
    "def mul(a,b):\n",
    "    return a*b\n",
    "\n",
    "def div(a,b):\n",
    "    return a/b\n",
    "\n",
    "def expo(a,b):\n",
    "    return a**b\n",
    "\n",
    "def florDiv(a,b):\n",
    "    return a//b\n",
    "\n",
    "\n",
    "\n",
    "if sign==\"+\":\n",
    "    print(add(first,second))\n",
    "elif sign==\"-\":\n",
    "    print(sub(first,second))\n",
    "elif sign==\"*\":\n",
    "    print(mul(first,second))\n",
    "elif sign==\"/\":\n",
    "    print(div(first,second))\n",
    "elif sign==\"**\":\n",
    "    print(expo(first,second))\n",
    "elif sign==\"//\":\n",
    "    print(florDiv(first,second))\n",
    "else:\n",
    "    print(\"Invalid Operator,Please enter valid operator\")"
   ]
  },
  {
   "cell_type": "code",
   "execution_count": null,
   "id": "ecd08c81-b985-4b69-9edd-532c7993a797",
   "metadata": {},
   "outputs": [],
   "source": []
  }
 ],
 "metadata": {
  "kernelspec": {
   "display_name": "Python [conda env:base] *",
   "language": "python",
   "name": "conda-base-py"
  },
  "language_info": {
   "codemirror_mode": {
    "name": "ipython",
    "version": 3
   },
   "file_extension": ".py",
   "mimetype": "text/x-python",
   "name": "python",
   "nbconvert_exporter": "python",
   "pygments_lexer": "ipython3",
   "version": "3.12.7"
  }
 },
 "nbformat": 4,
 "nbformat_minor": 5
}
