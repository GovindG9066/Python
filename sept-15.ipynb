{
 "cells": [
  {
   "cell_type": "code",
   "execution_count": 3,
   "id": "64a83fa3-7695-4635-adce-b79dc54eb70c",
   "metadata": {},
   "outputs": [
    {
     "name": "stdout",
     "output_type": "stream",
     "text": [
      "Sept-15\n"
     ]
    }
   ],
   "source": [
    "print(\"Sept-15\")"
   ]
  },
  {
   "cell_type": "code",
   "execution_count": null,
   "id": "f75a6af3-f7bc-4fa8-8807-9d01d79d6ce5",
   "metadata": {},
   "outputs": [],
   "source": [
    "print(\"Using while loop factorial of the number (Incremental)  : \")\n",
    "num=5\n",
    "count=1\n",
    "fact=1\n",
    "\n",
    "while count "
   ]
  }
 ],
 "metadata": {
  "kernelspec": {
   "display_name": "Python [conda env:base] *",
   "language": "python",
   "name": "conda-base-py"
  },
  "language_info": {
   "codemirror_mode": {
    "name": "ipython",
    "version": 3
   },
   "file_extension": ".py",
   "mimetype": "text/x-python",
   "name": "python",
   "nbconvert_exporter": "python",
   "pygments_lexer": "ipython3",
   "version": "3.12.7"
  }
 },
 "nbformat": 4,
 "nbformat_minor": 5
}
