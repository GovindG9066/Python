{
 "cells": [
  {
   "cell_type": "code",
   "execution_count": 3,
   "id": "64a83fa3-7695-4635-adce-b79dc54eb70c",
   "metadata": {},
   "outputs": [
    {
     "name": "stdout",
     "output_type": "stream",
     "text": [
      "Sept-15\n"
     ]
    }
   ],
   "source": [
    "print(\"Sept-15\")"
   ]
  },
  {
   "cell_type": "code",
   "execution_count": 7,
   "id": "f75a6af3-f7bc-4fa8-8807-9d01d79d6ce5",
   "metadata": {},
   "outputs": [
    {
     "name": "stdout",
     "output_type": "stream",
     "text": [
      "Using while loop factorial of the number (Incremental)  : \n",
      "120\n"
     ]
    }
   ],
   "source": [
    "print(\"Using while loop factorial of the number (Incremental)  : \")\n",
    "num=5\n",
    "count=1\n",
    "fact=1\n",
    "\n",
    "while count <= num:\n",
    "    fact=fact*count\n",
    "    count+=1\n",
    "\n",
    "print(fact)"
   ]
  },
  {
   "cell_type": "code",
   "execution_count": 15,
   "id": "2c115cae-2984-49d2-ab2e-0aba20099602",
   "metadata": {},
   "outputs": [
    {
     "name": "stdout",
     "output_type": "stream",
     "text": [
      "Using while loop factorial of the number (Decremental)  : \n",
      "\n",
      "120\n"
     ]
    }
   ],
   "source": [
    "print(\"Using while loop factorial of the number (Decremental)  : \\n\")\n",
    "\n",
    "num=5\n",
    "fact=1\n",
    "\n",
    "while num != 0:\n",
    "    fact=fact*num\n",
    "    num-=1\n",
    "\n",
    "print(fact)"
   ]
  },
  {
   "cell_type": "code",
   "execution_count": 21,
   "id": "adae7acb-2a5d-41f8-89ee-104a85d0494e",
   "metadata": {},
   "outputs": [
    {
     "name": "stdout",
     "output_type": "stream",
     "text": [
      "Using for loop factorial of the number (Incremental) : \n",
      " \n",
      "120\n"
     ]
    }
   ],
   "source": [
    "print(\"Using for loop factorial of the number (Incremental) : \\n \")\n",
    "\n",
    "num=5\n",
    "fact=1\n",
    "\n",
    "for i in range(1,num+1):\n",
    "    fact=fact*i\n",
    "\n",
    "print(fact)"
   ]
  },
  {
   "cell_type": "code",
   "execution_count": 25,
   "id": "82a3e4c7-b799-4173-ab79-a7b1834f0436",
   "metadata": {},
   "outputs": [
    {
     "name": "stdout",
     "output_type": "stream",
     "text": [
      "Using while loop factorial of the number (Decremental)  : \n",
      " \n",
      "120\n"
     ]
    }
   ],
   "source": [
    "print(\"Using while loop factorial of the number (Decremental)  : \\n \")\n",
    "\n",
    "num=5\n",
    "fact=1\n",
    "\n",
    "for i in range(num,0,-1):\n",
    "    fact=fact*i\n",
    "\n",
    "print(fact)"
   ]
  },
  {
   "cell_type": "code",
   "execution_count": null,
   "id": "d6c448de-5a75-4987-a07f-4e4ae005e012",
   "metadata": {},
   "outputs": [],
   "source": []
  }
 ],
 "metadata": {
  "kernelspec": {
   "display_name": "Python [conda env:base] *",
   "language": "python",
   "name": "conda-base-py"
  },
  "language_info": {
   "codemirror_mode": {
    "name": "ipython",
    "version": 3
   },
   "file_extension": ".py",
   "mimetype": "text/x-python",
   "name": "python",
   "nbconvert_exporter": "python",
   "pygments_lexer": "ipython3",
   "version": "3.12.7"
  }
 },
 "nbformat": 4,
 "nbformat_minor": 5
}
