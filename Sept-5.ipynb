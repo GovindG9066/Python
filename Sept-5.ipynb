{
 "cells": [
  {
   "cell_type": "code",
   "execution_count": 1,
   "id": "bb0980b5-06c6-4593-845c-13dd04fb2969",
   "metadata": {},
   "outputs": [
    {
     "name": "stdout",
     "output_type": "stream",
     "text": [
      "Hello\n"
     ]
    }
   ],
   "source": [
    "print(\"Hello\")"
   ]
  },
  {
   "cell_type": "code",
   "execution_count": 7,
   "id": "ad046479-b63d-4845-b51e-b01a6938705c",
   "metadata": {},
   "outputs": [
    {
     "name": "stdout",
     "output_type": "stream",
     "text": [
      "0\n",
      "1\n",
      "1\n",
      "2\n",
      "3\n",
      "5\n",
      "8\n",
      "13\n",
      "21\n",
      "34\n"
     ]
    }
   ],
   "source": [
    "first=0\n",
    "second=1\n",
    "count=2\n",
    "print(first)\n",
    "print(second)\n",
    "\n",
    "while count<10:\n",
    "    next=first+second\n",
    "    print(next)\n",
    "    first=second\n",
    "    second=next\n",
    "    count+=1\n",
    "\n",
    "\n",
    "\n",
    "    "
   ]
  },
  {
   "cell_type": "code",
   "execution_count": 3,
   "id": "c5f4306b-de91-46a8-b9c8-8abac558824e",
   "metadata": {},
   "outputs": [
    {
     "name": "stdout",
     "output_type": "stream",
     "text": [
      "Original Num  : 12345\n",
      "Reverse Num :  54321\n"
     ]
    }
   ],
   "source": [
    "num=12345\n",
    "a=num\n",
    "rev=0\n",
    "\n",
    "print(\"Original Num  :\",num)\n",
    "while a > 0:\n",
    "    digit=a % 10\n",
    "    rev=rev*10+digit\n",
    "    a=a//10\n",
    "\n",
    "print(\"Reverse Num : \",rev)"
   ]
  },
  {
   "cell_type": "code",
   "execution_count": null,
   "id": "ed54485d-cdba-4e92-a31c-32afad776619",
   "metadata": {},
   "outputs": [],
   "source": []
  }
 ],
 "metadata": {
  "kernelspec": {
   "display_name": "Python [conda env:base] *",
   "language": "python",
   "name": "conda-base-py"
  },
  "language_info": {
   "codemirror_mode": {
    "name": "ipython",
    "version": 3
   },
   "file_extension": ".py",
   "mimetype": "text/x-python",
   "name": "python",
   "nbconvert_exporter": "python",
   "pygments_lexer": "ipython3",
   "version": "3.12.7"
  }
 },
 "nbformat": 4,
 "nbformat_minor": 5
}
