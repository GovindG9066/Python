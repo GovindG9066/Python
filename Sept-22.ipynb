{
 "cells": [
  {
   "cell_type": "code",
   "execution_count": 1,
   "id": "ca4c11cd-30d0-4238-9942-94e37e3cf1ae",
   "metadata": {},
   "outputs": [
    {
     "name": "stdout",
     "output_type": "stream",
     "text": [
      "Sept-22\n"
     ]
    }
   ],
   "source": [
    "print(\"Sept-22\")"
   ]
  },
  {
   "cell_type": "code",
   "execution_count": 21,
   "id": "6ea87d6e-e86b-464d-9e63-ed5553b59a44",
   "metadata": {},
   "outputs": [
    {
     "name": "stdout",
     "output_type": "stream",
     "text": [
      "All Star Patterns is Python : \n"
     ]
    }
   ],
   "source": [
    "print(\"All Star Patterns is Python : \")"
   ]
  },
  {
   "cell_type": "code",
   "execution_count": 23,
   "id": "32722427-e444-46f1-829e-a7e8cd1f2bb7",
   "metadata": {},
   "outputs": [
    {
     "name": "stdout",
     "output_type": "stream",
     "text": [
      "Simple Right angle triangle Star Pattern :\n",
      "\n",
      "* \n",
      "* * \n",
      "* * * \n",
      "* * * * \n",
      "* * * * * \n"
     ]
    }
   ],
   "source": [
    "print(\"Simple Right angle triangle Star Pattern :\")\n",
    "count=5\n",
    "\n",
    "for i in range(5+1):\n",
    "    print(\"* \"*i)"
   ]
  },
  {
   "cell_type": "code",
   "execution_count": 25,
   "id": "0eef7b95-50c2-4801-a70b-a7407a60e4e4",
   "metadata": {},
   "outputs": [
    {
     "name": "stdout",
     "output_type": "stream",
     "text": [
      "Simple Up side down Right angle triangle Star Pattern : \n",
      "* * * * * \n",
      "* * * * \n",
      "* * * \n",
      "* * \n",
      "* \n"
     ]
    }
   ],
   "source": [
    "print(\"Simple Up side down Right angle triangle Star Pattern : \")\n",
    "count=5\n",
    "\n",
    "for i in range(5,0,-1):\n",
    "    print(\"* \" * i)"
   ]
  },
  {
   "cell_type": "code",
   "execution_count": 27,
   "id": "b1ccf1dc-bd3a-4801-8745-40323c05594c",
   "metadata": {},
   "outputs": [
    {
     "name": "stdout",
     "output_type": "stream",
     "text": [
      "Simple flip Right angle triangle Star Pattern : \n",
      "          \n",
      "        * \n",
      "      * * \n",
      "    * * * \n",
      "  * * * * \n",
      "* * * * * \n"
     ]
    }
   ],
   "source": [
    "print(\"Simple flip Right angle triangle Star Pattern : \")\n",
    "count=5\n",
    "\n",
    "for i in range(5+1):\n",
    "    print(\"  \" * (count-i) + \"* \" * i)"
   ]
  },
  {
   "cell_type": "code",
   "execution_count": 34,
   "id": "c42c03c8-cf14-4fa9-a4d0-7ee6f78920f3",
   "metadata": {},
   "outputs": [
    {
     "name": "stdout",
     "output_type": "stream",
     "text": [
      "Simple flip Up side down Right angle triangle Star Pattern : \n",
      "* * * * * \n",
      "  * * * * \n",
      "    * * * \n",
      "      * * \n",
      "        * \n",
      "          \n"
     ]
    }
   ],
   "source": [
    "print(\"Simple flip Up side down Right angle triangle Star Pattern : \")\n",
    "count=5\n",
    "\n",
    "for i in range(0,5+1):\n",
    "    print(\"  \" * i + (count-i) * \"* \")"
   ]
  },
  {
   "cell_type": "code",
   "execution_count": 36,
   "id": "b761d555-eb3f-44f5-be3d-4d3f2359b23c",
   "metadata": {},
   "outputs": [
    {
     "name": "stdout",
     "output_type": "stream",
     "text": [
      "Simple Pyramid triangle without diagonal Star Pattern : \n",
      "     \n",
      "    * \n",
      "   * * \n",
      "  * * * \n",
      " * * * * \n",
      "* * * * * \n"
     ]
    }
   ],
   "source": [
    "print(\"Simple Pyramid triangle without diagonal Star Pattern : \")\n",
    "count=5\n",
    "\n",
    "for i in range(5+1):\n",
    "    print(\" \" * (count-i) + \"* \" * i)"
   ]
  },
  {
   "cell_type": "code",
   "execution_count": null,
   "id": "7762f130-cec8-4e50-957c-f8caba834a09",
   "metadata": {},
   "outputs": [],
   "source": []
  }
 ],
 "metadata": {
  "kernelspec": {
   "display_name": "Python [conda env:base] *",
   "language": "python",
   "name": "conda-base-py"
  },
  "language_info": {
   "codemirror_mode": {
    "name": "ipython",
    "version": 3
   },
   "file_extension": ".py",
   "mimetype": "text/x-python",
   "name": "python",
   "nbconvert_exporter": "python",
   "pygments_lexer": "ipython3",
   "version": "3.12.7"
  }
 },
 "nbformat": 4,
 "nbformat_minor": 5
}
