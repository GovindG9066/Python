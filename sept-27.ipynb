{
 "cells": [
  {
   "cell_type": "code",
   "execution_count": 1,
   "id": "e7d3e424-12cf-4f6d-b523-0e004b0d4a44",
   "metadata": {},
   "outputs": [
    {
     "name": "stdout",
     "output_type": "stream",
     "text": [
      "sept-27\n"
     ]
    }
   ],
   "source": [
    "print(\"sept-27\")"
   ]
  },
  {
   "cell_type": "code",
   "execution_count": 3,
   "id": "ef603e6c-c8b8-41fe-bf8d-ce61a4f3199a",
   "metadata": {},
   "outputs": [
    {
     "name": "stdout",
     "output_type": "stream",
     "text": [
      "[0, 3]\n",
      "[2, 4]\n",
      "[4, 5]\n"
     ]
    }
   ],
   "source": [
    "nums=[1,5,6,8,3,6]\n",
    "target=9\n",
    "\n",
    "for i in range(len(nums)):\n",
    "    for j in range(i+1,len(nums)):\n",
    "        if nums[i]+nums[j]==target:\n",
    "            print([i,j])"
   ]
  },
  {
   "cell_type": "code",
   "execution_count": 9,
   "id": "4502b82b-fcbf-488c-b89f-88f8dd3135b9",
   "metadata": {},
   "outputs": [
    {
     "name": "stdout",
     "output_type": "stream",
     "text": [
      "*\n",
      "**\n",
      "***\n",
      "****\n",
      "*****\n"
     ]
    }
   ],
   "source": [
    "def starpattarn(count):\n",
    "    if count==0:\n",
    "        return\n",
    "    \n",
    "    starpattarn(count-1)\n",
    "    print(\"*\" * count)\n",
    "\n",
    "starpattarn(5)"
   ]
  },
  {
   "cell_type": "code",
   "execution_count": 11,
   "id": "deae381b-980e-4b80-86cd-73d4af1d2f34",
   "metadata": {},
   "outputs": [
    {
     "name": "stdout",
     "output_type": "stream",
     "text": [
      "*****\n",
      "****\n",
      "***\n",
      "**\n",
      "*\n"
     ]
    }
   ],
   "source": [
    "def starpattarn(count):\n",
    "    if count==0:\n",
    "        return\n",
    "\n",
    "    print(\"*\" * count)\n",
    "    starpattarn(count-1)\n",
    "    \n",
    "\n",
    "starpattarn(5)"
   ]
  },
  {
   "cell_type": "code",
   "execution_count": null,
   "id": "83165709-1c47-450e-877f-13f384bd15ab",
   "metadata": {},
   "outputs": [],
   "source": []
  }
 ],
 "metadata": {
  "kernelspec": {
   "display_name": "Python [conda env:base] *",
   "language": "python",
   "name": "conda-base-py"
  },
  "language_info": {
   "codemirror_mode": {
    "name": "ipython",
    "version": 3
   },
   "file_extension": ".py",
   "mimetype": "text/x-python",
   "name": "python",
   "nbconvert_exporter": "python",
   "pygments_lexer": "ipython3",
   "version": "3.12.7"
  }
 },
 "nbformat": 4,
 "nbformat_minor": 5
}
