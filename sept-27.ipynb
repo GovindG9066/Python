{
 "cells": [
  {
   "cell_type": "code",
   "execution_count": 1,
   "id": "e7d3e424-12cf-4f6d-b523-0e004b0d4a44",
   "metadata": {},
   "outputs": [
    {
     "name": "stdout",
     "output_type": "stream",
     "text": [
      "sept-27\n"
     ]
    }
   ],
   "source": [
    "print(\"sept-27\")"
   ]
  },
  {
   "cell_type": "code",
   "execution_count": null,
   "id": "ef603e6c-c8b8-41fe-bf8d-ce61a4f3199a",
   "metadata": {},
   "outputs": [],
   "source": [
    "nums=[1,5,6,8,3,6]\n",
    "target=9\n",
    "\n",
    "for i in range(len(nums)):\n",
    "    for j in range(i+1)"
   ]
  }
 ],
 "metadata": {
  "kernelspec": {
   "display_name": "Python [conda env:base] *",
   "language": "python",
   "name": "conda-base-py"
  },
  "language_info": {
   "codemirror_mode": {
    "name": "ipython",
    "version": 3
   },
   "file_extension": ".py",
   "mimetype": "text/x-python",
   "name": "python",
   "nbconvert_exporter": "python",
   "pygments_lexer": "ipython3",
   "version": "3.12.7"
  }
 },
 "nbformat": 4,
 "nbformat_minor": 5
}
