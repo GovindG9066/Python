{
 "cells": [
  {
   "cell_type": "code",
   "execution_count": null,
   "id": "c1a4ee67-3556-4199-8174-e5ebd81b203d",
   "metadata": {},
   "outputs": [],
   "source": []
  }
 ],
 "metadata": {
  "kernelspec": {
   "display_name": "",
   "name": ""
  },
  "language_info": {
   "name": ""
  }
 },
 "nbformat": 4,
 "nbformat_minor": 5
}
