{
 "cells": [
  {
   "cell_type": "code",
   "execution_count": 1,
   "id": "7f57528f-a43a-43d2-8037-762f4e571a9d",
   "metadata": {},
   "outputs": [
    {
     "name": "stdout",
     "output_type": "stream",
     "text": [
      "Sept-25\n",
      "Python Functions :  \n"
     ]
    }
   ],
   "source": [
    "print(\"Sept-25\")\n",
    "\n",
    "print(\"Python Functions :  \")"
   ]
  },
  {
   "cell_type": "code",
   "execution_count": 3,
   "id": "4cd342d2-c222-400c-a692-f1796e2a7f34",
   "metadata": {},
   "outputs": [
    {
     "name": "stdout",
     "output_type": "stream",
     "text": [
      "Hello\n"
     ]
    }
   ],
   "source": [
    "def greet():\n",
    "    print(\"Hello\")\n",
    "greet()"
   ]
  },
  {
   "cell_type": "code",
   "execution_count": 11,
   "id": "d8201941-4397-4472-9728-22497ce5151f",
   "metadata": {},
   "outputs": [
    {
     "name": "stdout",
     "output_type": "stream",
     "text": [
      "Hello World\n"
     ]
    }
   ],
   "source": [
    "def greet1():\n",
    "    return \"Hello World\"\n",
    "print(greet1())"
   ]
  },
  {
   "cell_type": "code",
   "execution_count": 17,
   "id": "72c7d1b0-86a2-4c9f-9f3d-9b35585af0ee",
   "metadata": {},
   "outputs": [
    {
     "name": "stdout",
     "output_type": "stream",
     "text": [
      "Functions with arguments : \n",
      "14\n",
      "(22, 12)\n"
     ]
    }
   ],
   "source": [
    "print(\"Functions with arguments : \")\n",
    "def sum(a,b):\n",
    "    return a+b\n",
    "print(sum(5,9))\n",
    "\n",
    "def swipe(n1,n2):\n",
    "    n1=n1+n2\n",
    "    n2=n1-n2\n",
    "    n1=n1-n2\n",
    "    return n1,n2\n",
    "print(swipe(12,22))"
   ]
  },
  {
   "cell_type": "code",
   "execution_count": 21,
   "id": "001026a4-c309-4b79-88ad-928f4978cd6e",
   "metadata": {},
   "outputs": [
    {
     "name": "stdout",
     "output_type": "stream",
     "text": [
      "Default arugment in functions: \n",
      "Hello Mohan\n",
      "Hello Guest\n"
     ]
    }
   ],
   "source": [
    "print(\"Default arugment in functions: \")\n",
    "\n",
    "def customer(name=\"Guest\"):\n",
    "    print(\"Hello\",name)\n",
    "\n",
    "customer(\"Mohan\")\n",
    "customer()"
   ]
  },
  {
   "cell_type": "code",
   "execution_count": null,
   "id": "3f0ba592-8047-4c8a-bf57-3688660c7829",
   "metadata": {},
   "outputs": [],
   "source": []
  }
 ],
 "metadata": {
  "kernelspec": {
   "display_name": "Python [conda env:base] *",
   "language": "python",
   "name": "conda-base-py"
  },
  "language_info": {
   "codemirror_mode": {
    "name": "ipython",
    "version": 3
   },
   "file_extension": ".py",
   "mimetype": "text/x-python",
   "name": "python",
   "nbconvert_exporter": "python",
   "pygments_lexer": "ipython3",
   "version": "3.12.7"
  }
 },
 "nbformat": 4,
 "nbformat_minor": 5
}
