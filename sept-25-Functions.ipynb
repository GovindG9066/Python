{
 "cells": [
  {
   "cell_type": "code",
   "execution_count": 1,
   "id": "7f57528f-a43a-43d2-8037-762f4e571a9d",
   "metadata": {},
   "outputs": [
    {
     "name": "stdout",
     "output_type": "stream",
     "text": [
      "Sept-25\n",
      "Python Functions :  \n"
     ]
    }
   ],
   "source": [
    "print(\"Sept-25\")\n",
    "\n",
    "print(\"Python Functions :  \")"
   ]
  },
  {
   "cell_type": "code",
   "execution_count": 3,
   "id": "4cd342d2-c222-400c-a692-f1796e2a7f34",
   "metadata": {},
   "outputs": [
    {
     "name": "stdout",
     "output_type": "stream",
     "text": [
      "Hello\n"
     ]
    }
   ],
   "source": [
    "def greet():\n",
    "    print(\"Hello\")\n",
    "greet()"
   ]
  },
  {
   "cell_type": "code",
   "execution_count": 11,
   "id": "d8201941-4397-4472-9728-22497ce5151f",
   "metadata": {},
   "outputs": [
    {
     "name": "stdout",
     "output_type": "stream",
     "text": [
      "Hello World\n"
     ]
    }
   ],
   "source": [
    "def greet1():\n",
    "    return \"Hello World\"\n",
    "print(greet1())"
   ]
  },
  {
   "cell_type": "code",
   "execution_count": 17,
   "id": "72c7d1b0-86a2-4c9f-9f3d-9b35585af0ee",
   "metadata": {},
   "outputs": [
    {
     "name": "stdout",
     "output_type": "stream",
     "text": [
      "Functions with arguments : \n",
      "14\n",
      "(22, 12)\n"
     ]
    }
   ],
   "source": [
    "print(\"Functions with arguments : \")\n",
    "def sum(a,b):\n",
    "    return a+b\n",
    "print(sum(5,9))\n",
    "\n",
    "def swipe(n1,n2):\n",
    "    n1=n1+n2\n",
    "    n2=n1-n2\n",
    "    n1=n1-n2\n",
    "    return n1,n2\n",
    "print(swipe(12,22))"
   ]
  },
  {
   "cell_type": "code",
   "execution_count": 21,
   "id": "001026a4-c309-4b79-88ad-928f4978cd6e",
   "metadata": {},
   "outputs": [
    {
     "name": "stdout",
     "output_type": "stream",
     "text": [
      "Default arugment in functions: \n",
      "Hello Mohan\n",
      "Hello Guest\n"
     ]
    }
   ],
   "source": [
    "print(\"Default arugment in functions: \")\n",
    "\n",
    "def customer(name=\"Guest\"):\n",
    "    print(\"Hello\",name)\n",
    "\n",
    "customer(\"Mohan\")\n",
    "customer()"
   ]
  },
  {
   "cell_type": "code",
   "execution_count": 23,
   "id": "3f0ba592-8047-4c8a-bf57-3688660c7829",
   "metadata": {},
   "outputs": [
    {
     "name": "stdout",
     "output_type": "stream",
     "text": [
      "Pass the argument using function : \n",
      "my name is  Mohan and i am  12 years old\n",
      "my name is  vaishali and i am  22 years old\n"
     ]
    }
   ],
   "source": [
    "print(\"Pass the argument using function : \")\n",
    "\n",
    "def student(name,age):\n",
    "    print(\"my name is \",name,\"and i am \",age,\"years old\")\n",
    "\n",
    "student(\"Mohan\",12)\n",
    "student(age=22,name=\"vaishali\")"
   ]
  },
  {
   "cell_type": "code",
   "execution_count": 33,
   "id": "f93b9bf8-f07a-4057-819d-c1e89777b141",
   "metadata": {},
   "outputs": [
    {
     "name": "stdout",
     "output_type": "stream",
     "text": [
      "Return in function : \n"
     ]
    },
    {
     "name": "stdin",
     "output_type": "stream",
     "text": [
      "Enter a number : 12\n"
     ]
    },
    {
     "name": "stdout",
     "output_type": "stream",
     "text": [
      "Square of the  12 is 144\n"
     ]
    }
   ],
   "source": [
    "print(\"Return in function : \")\n",
    "\n",
    "def square(num):\n",
    "    return num**2\n",
    "\n",
    "n=int(input(\"Enter a number :\"))\n",
    "print(\"Square of the \",n,\"is\",square(n))"
   ]
  },
  {
   "cell_type": "code",
   "execution_count": 41,
   "id": "22270663-b61e-40d8-96a9-e1977bb852c8",
   "metadata": {},
   "outputs": [
    {
     "name": "stdout",
     "output_type": "stream",
     "text": [
      "Recursion in python : \n"
     ]
    },
    {
     "data": {
      "text/plain": [
       "120"
      ]
     },
     "execution_count": 41,
     "metadata": {},
     "output_type": "execute_result"
    }
   ],
   "source": [
    "print(\"Recursion in python : \")\n",
    "\n",
    "def fact(p):\n",
    "    if p == 0:\n",
    "        return 1\n",
    "    return p*fact(p-1)\n",
    "\n",
    "fact(5)\n"
   ]
  },
  {
   "cell_type": "code",
   "execution_count": 5,
   "id": "a34fc1da-72bd-4b03-9424-e7b72c75e060",
   "metadata": {},
   "outputs": [
    {
     "name": "stdout",
     "output_type": "stream",
     "text": [
      "Lambda functions expressions : \n",
      "25\n"
     ]
    }
   ],
   "source": [
    "print(\"Lambda functions expressions : \")\n",
    "square=lambda x:x*x\n",
    "print(square(5))"
   ]
  },
  {
   "cell_type": "code",
   "execution_count": 11,
   "id": "2c5cae75-c671-4f71-8b68-ed149546b80f",
   "metadata": {},
   "outputs": [
    {
     "name": "stdout",
     "output_type": "stream",
     "text": [
      "Miltiplication \n",
      "30\n"
     ]
    }
   ],
   "source": [
    "print(\"Miltiplication \")\n",
    "mul=lambda m,n:m*n\n",
    "\n",
    "print(mul(5,6))"
   ]
  },
  {
   "cell_type": "code",
   "execution_count": 13,
   "id": "fca98442-dd64-493d-a20f-8311061ea7a9",
   "metadata": {},
   "outputs": [
    {
     "ename": "RecursionError",
     "evalue": "maximum recursion depth exceeded",
     "output_type": "error",
     "traceback": [
      "\u001b[1;31m---------------------------------------------------------------------------\u001b[0m",
      "\u001b[1;31mRecursionError\u001b[0m                            Traceback (most recent call last)",
      "Cell \u001b[1;32mIn[13], line 2\u001b[0m\n\u001b[0;32m      1\u001b[0m facto\u001b[38;5;241m=\u001b[39m\u001b[38;5;28;01mlambda\u001b[39;00m f:f\u001b[38;5;241m*\u001b[39mfacto(f\u001b[38;5;241m-\u001b[39m\u001b[38;5;241m1\u001b[39m)\n\u001b[1;32m----> 2\u001b[0m \u001b[38;5;28mprint\u001b[39m(facto(\u001b[38;5;241m5\u001b[39m))\n",
      "Cell \u001b[1;32mIn[13], line 1\u001b[0m, in \u001b[0;36m<lambda>\u001b[1;34m(f)\u001b[0m\n\u001b[1;32m----> 1\u001b[0m facto\u001b[38;5;241m=\u001b[39m\u001b[38;5;28;01mlambda\u001b[39;00m f:f\u001b[38;5;241m*\u001b[39mfacto(f\u001b[38;5;241m-\u001b[39m\u001b[38;5;241m1\u001b[39m)\n\u001b[0;32m      2\u001b[0m \u001b[38;5;28mprint\u001b[39m(facto(\u001b[38;5;241m5\u001b[39m))\n",
      "Cell \u001b[1;32mIn[13], line 1\u001b[0m, in \u001b[0;36m<lambda>\u001b[1;34m(f)\u001b[0m\n\u001b[1;32m----> 1\u001b[0m facto\u001b[38;5;241m=\u001b[39m\u001b[38;5;28;01mlambda\u001b[39;00m f:f\u001b[38;5;241m*\u001b[39mfacto(f\u001b[38;5;241m-\u001b[39m\u001b[38;5;241m1\u001b[39m)\n\u001b[0;32m      2\u001b[0m \u001b[38;5;28mprint\u001b[39m(facto(\u001b[38;5;241m5\u001b[39m))\n",
      "    \u001b[1;31m[... skipping similar frames: <lambda> at line 1 (2974 times)]\u001b[0m\n",
      "Cell \u001b[1;32mIn[13], line 1\u001b[0m, in \u001b[0;36m<lambda>\u001b[1;34m(f)\u001b[0m\n\u001b[1;32m----> 1\u001b[0m facto\u001b[38;5;241m=\u001b[39m\u001b[38;5;28;01mlambda\u001b[39;00m f:f\u001b[38;5;241m*\u001b[39mfacto(f\u001b[38;5;241m-\u001b[39m\u001b[38;5;241m1\u001b[39m)\n\u001b[0;32m      2\u001b[0m \u001b[38;5;28mprint\u001b[39m(facto(\u001b[38;5;241m5\u001b[39m))\n",
      "\u001b[1;31mRecursionError\u001b[0m: maximum recursion depth exceeded"
     ]
    }
   ],
   "source": [
    "facto=lambda f:f*facto(f-1)\n",
    "print(facto(5))"
   ]
  },
  {
   "cell_type": "code",
   "execution_count": 19,
   "id": "912422ec-cebd-4f92-b06c-7573312bc99b",
   "metadata": {},
   "outputs": [
    {
     "name": "stdout",
     "output_type": "stream",
     "text": [
      "No argument : \n",
      "Hello Govind\n"
     ]
    }
   ],
   "source": [
    "print(\"No argument : \")\n",
    "greet= lambda :\"Hello Govind\"\n",
    "print(greet())"
   ]
  },
  {
   "cell_type": "code",
   "execution_count": null,
   "id": "14162e53-4a31-4d34-b037-c6ae98d92684",
   "metadata": {},
   "outputs": [],
   "source": []
  }
 ],
 "metadata": {
  "kernelspec": {
   "display_name": "Python [conda env:base] *",
   "language": "python",
   "name": "conda-base-py"
  },
  "language_info": {
   "codemirror_mode": {
    "name": "ipython",
    "version": 3
   },
   "file_extension": ".py",
   "mimetype": "text/x-python",
   "name": "python",
   "nbconvert_exporter": "python",
   "pygments_lexer": "ipython3",
   "version": "3.12.7"
  }
 },
 "nbformat": 4,
 "nbformat_minor": 5
}
