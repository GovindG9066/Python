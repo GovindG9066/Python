{
 "cells": [
  {
   "cell_type": "code",
   "execution_count": 1,
   "id": "7f57528f-a43a-43d2-8037-762f4e571a9d",
   "metadata": {},
   "outputs": [
    {
     "name": "stdout",
     "output_type": "stream",
     "text": [
      "Sept-25\n",
      "Python Functions :  \n"
     ]
    }
   ],
   "source": [
    "print(\"Sept-25\")\n",
    "\n",
    "print(\"Python Functions :  \")"
   ]
  },
  {
   "cell_type": "code",
   "execution_count": 3,
   "id": "4cd342d2-c222-400c-a692-f1796e2a7f34",
   "metadata": {},
   "outputs": [
    {
     "name": "stdout",
     "output_type": "stream",
     "text": [
      "Hello\n"
     ]
    }
   ],
   "source": [
    "def greet():\n",
    "    print(\"Hello\")\n",
    "greet()"
   ]
  },
  {
   "cell_type": "code",
   "execution_count": null,
   "id": "d8201941-4397-4472-9728-22497ce5151f",
   "metadata": {},
   "outputs": [],
   "source": []
  }
 ],
 "metadata": {
  "kernelspec": {
   "display_name": "Python [conda env:base] *",
   "language": "python",
   "name": "conda-base-py"
  },
  "language_info": {
   "codemirror_mode": {
    "name": "ipython",
    "version": 3
   },
   "file_extension": ".py",
   "mimetype": "text/x-python",
   "name": "python",
   "nbconvert_exporter": "python",
   "pygments_lexer": "ipython3",
   "version": "3.12.7"
  }
 },
 "nbformat": 4,
 "nbformat_minor": 5
}
