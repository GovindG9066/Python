{
 "cells": [
  {
   "cell_type": "code",
   "execution_count": null,
   "id": "7f57528f-a43a-43d2-8037-762f4e571a9d",
   "metadata": {},
   "outputs": [],
   "source": []
  }
 ],
 "metadata": {
  "kernelspec": {
   "display_name": "",
   "name": ""
  },
  "language_info": {
   "name": ""
  }
 },
 "nbformat": 4,
 "nbformat_minor": 5
}
