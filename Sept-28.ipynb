{
 "cells": [
  {
   "cell_type": "code",
   "execution_count": 1,
   "id": "c82ec0bd-2465-445d-9ebd-f074347306db",
   "metadata": {},
   "outputs": [
    {
     "name": "stdout",
     "output_type": "stream",
     "text": [
      "Sept-28\n"
     ]
    }
   ],
   "source": [
    "print(\"Sept-28\")"
   ]
  },
  {
   "cell_type": "code",
   "execution_count": 5,
   "id": "8bbd832a-186e-4084-a98c-f9232a3732d9",
   "metadata": {},
   "outputs": [
    {
     "name": "stdout",
     "output_type": "stream",
     "text": [
      "Govind\n"
     ]
    }
   ],
   "source": [
    "class Student:\n",
    "    name=\"Govind\"\n",
    "\n",
    "s1=Student()\n",
    "print(s1.name)"
   ]
  },
  {
   "cell_type": "code",
   "execution_count": 21,
   "id": "d7db6c8f-010a-4bad-b7d9-27f4bb22badf",
   "metadata": {},
   "outputs": [
    {
     "name": "stdout",
     "output_type": "stream",
     "text": [
      "Adding new student in class : \n",
      "Mohan\n",
      "Adding new student in class : \n",
      "Krishna\n"
     ]
    }
   ],
   "source": [
    "class Student1:\n",
    "    \n",
    "    def __init__(self,fullname):\n",
    "        self.name=fullname\n",
    "        print(\"Adding new student in class : \")\n",
    "\n",
    "s1=Student1(\"Mohan\")\n",
    "print(s1.name)\n",
    "\n",
    "s2=Student1(\"Krishna\")\n",
    "print(s2.name)\n",
    "        "
   ]
  },
  {
   "cell_type": "code",
   "execution_count": null,
   "id": "ed556c85-5df0-47df-8093-0c74137c7562",
   "metadata": {},
   "outputs": [],
   "source": []
  }
 ],
 "metadata": {
  "kernelspec": {
   "display_name": "Python [conda env:base] *",
   "language": "python",
   "name": "conda-base-py"
  },
  "language_info": {
   "codemirror_mode": {
    "name": "ipython",
    "version": 3
   },
   "file_extension": ".py",
   "mimetype": "text/x-python",
   "name": "python",
   "nbconvert_exporter": "python",
   "pygments_lexer": "ipython3",
   "version": "3.12.7"
  }
 },
 "nbformat": 4,
 "nbformat_minor": 5
}
