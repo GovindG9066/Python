{
 "cells": [
  {
   "cell_type": "code",
   "execution_count": 1,
   "id": "c82ec0bd-2465-445d-9ebd-f074347306db",
   "metadata": {},
   "outputs": [
    {
     "name": "stdout",
     "output_type": "stream",
     "text": [
      "Sept-28\n"
     ]
    }
   ],
   "source": [
    "print(\"Sept-28\")"
   ]
  },
  {
   "cell_type": "code",
   "execution_count": 5,
   "id": "8bbd832a-186e-4084-a98c-f9232a3732d9",
   "metadata": {},
   "outputs": [
    {
     "name": "stdout",
     "output_type": "stream",
     "text": [
      "Govind\n"
     ]
    }
   ],
   "source": [
    "class Student:\n",
    "    name=\"Govind\"\n",
    "\n",
    "s1=Student()\n",
    "print(s1.name)"
   ]
  },
  {
   "cell_type": "code",
   "execution_count": 21,
   "id": "d7db6c8f-010a-4bad-b7d9-27f4bb22badf",
   "metadata": {},
   "outputs": [
    {
     "name": "stdout",
     "output_type": "stream",
     "text": [
      "Adding new student in class : \n",
      "Mohan\n",
      "Adding new student in class : \n",
      "Krishna\n"
     ]
    }
   ],
   "source": [
    "class Student1:\n",
    "    \n",
    "    def __init__(self,fullname):\n",
    "        self.name=fullname\n",
    "        print(\"Adding new student in class : \")\n",
    "\n",
    "s1=Student1(\"Mohan\")\n",
    "print(s1.name)\n",
    "\n",
    "s2=Student1(\"Krishna\")\n",
    "print(s2.name)\n",
    "        "
   ]
  },
  {
   "cell_type": "code",
   "execution_count": 37,
   "id": "ed556c85-5df0-47df-8093-0c74137c7562",
   "metadata": {},
   "outputs": [
    {
     "name": "stdout",
     "output_type": "stream",
     "text": [
      "Adding new data in students : \n",
      "Govind 55\n"
     ]
    },
    {
     "ename": "TypeError",
     "evalue": "Student2.__init__() missing 2 required positional arguments: 'name' and 'marks'",
     "output_type": "error",
     "traceback": [
      "\u001b[1;31m---------------------------------------------------------------------------\u001b[0m",
      "\u001b[1;31mTypeError\u001b[0m                                 Traceback (most recent call last)",
      "Cell \u001b[1;32mIn[37], line 11\u001b[0m\n\u001b[0;32m      8\u001b[0m s1\u001b[38;5;241m=\u001b[39mStudent2(\u001b[38;5;124m\"\u001b[39m\u001b[38;5;124mGovind\u001b[39m\u001b[38;5;124m\"\u001b[39m,\u001b[38;5;241m55\u001b[39m)\n\u001b[0;32m      9\u001b[0m \u001b[38;5;28mprint\u001b[39m(s1\u001b[38;5;241m.\u001b[39mname,s1\u001b[38;5;241m.\u001b[39mmarks)\n\u001b[1;32m---> 11\u001b[0m s2\u001b[38;5;241m=\u001b[39mStudent2()\n\u001b[0;32m     12\u001b[0m \u001b[38;5;28mprint\u001b[39m(s2)\n",
      "\u001b[1;31mTypeError\u001b[0m: Student2.__init__() missing 2 required positional arguments: 'name' and 'marks'"
     ]
    }
   ],
   "source": [
    "class Student2:\n",
    "    name=\"Default\"\n",
    "    def __init__(self,name,marks):\n",
    "        self.name=name\n",
    "        self.marks=marks\n",
    "        print(\"Adding new data in students : \")\n",
    "\n",
    "s1=Student2(\"Govind\",55)\n",
    "print(s1.name,s1.marks)\n",
    "\n",
    "s2=Student2()\n",
    "print(s2)we"
   ]
  },
  {
   "cell_type": "code",
   "execution_count": null,
   "id": "0606db2c-bddd-4d9d-9189-9b56b0ecc9d6",
   "metadata": {},
   "outputs": [],
   "source": []
  }
 ],
 "metadata": {
  "kernelspec": {
   "display_name": "Python [conda env:base] *",
   "language": "python",
   "name": "conda-base-py"
  },
  "language_info": {
   "codemirror_mode": {
    "name": "ipython",
    "version": 3
   },
   "file_extension": ".py",
   "mimetype": "text/x-python",
   "name": "python",
   "nbconvert_exporter": "python",
   "pygments_lexer": "ipython3",
   "version": "3.12.7"
  }
 },
 "nbformat": 4,
 "nbformat_minor": 5
}
