{
 "cells": [
  {
   "cell_type": "code",
   "execution_count": 1,
   "id": "c82ec0bd-2465-445d-9ebd-f074347306db",
   "metadata": {},
   "outputs": [
    {
     "name": "stdout",
     "output_type": "stream",
     "text": [
      "Sept-28\n"
     ]
    }
   ],
   "source": [
    "print(\"Sept-28\")"
   ]
  },
  {
   "cell_type": "code",
   "execution_count": 5,
   "id": "8bbd832a-186e-4084-a98c-f9232a3732d9",
   "metadata": {},
   "outputs": [
    {
     "name": "stdout",
     "output_type": "stream",
     "text": [
      "Govind\n"
     ]
    }
   ],
   "source": [
    "class Student:\n",
    "    name=\"Govind\"\n",
    "\n",
    "s1=Student()\n",
    "print(s1.name)"
   ]
  },
  {
   "cell_type": "code",
   "execution_count": 21,
   "id": "d7db6c8f-010a-4bad-b7d9-27f4bb22badf",
   "metadata": {},
   "outputs": [
    {
     "name": "stdout",
     "output_type": "stream",
     "text": [
      "Adding new student in class : \n",
      "Mohan\n",
      "Adding new student in class : \n",
      "Krishna\n"
     ]
    }
   ],
   "source": [
    "class Student1:\n",
    "    \n",
    "    def __init__(self,fullname):\n",
    "        self.name=fullname\n",
    "        print(\"Adding new student in class : \")\n",
    "\n",
    "s1=Student1(\"Mohan\")\n",
    "print(s1.name)\n",
    "\n",
    "s2=Student1(\"Krishna\")\n",
    "print(s2.name)\n",
    "        "
   ]
  },
  {
   "cell_type": "code",
   "execution_count": 45,
   "id": "ed556c85-5df0-47df-8093-0c74137c7562",
   "metadata": {},
   "outputs": [
    {
     "name": "stdout",
     "output_type": "stream",
     "text": [
      "Adding new data in students : \n",
      "Govind 55\n"
     ]
    }
   ],
   "source": [
    "class Student2:\n",
    "    name=\"Default\"\n",
    "    def __init__(self,name,marks):\n",
    "        self.name=name\n",
    "        self.marks=marks\n",
    "        print(\"Adding new data in students : \")\n",
    "\n",
    "s1=Student2(\"Govind\",55)\n",
    "print(s1.name,s1.marks)"
   ]
  },
  {
   "cell_type": "code",
   "execution_count": 71,
   "id": "0606db2c-bddd-4d9d-9189-9b56b0ecc9d6",
   "metadata": {},
   "outputs": [
    {
     "name": "stdout",
     "output_type": "stream",
     "text": [
      "Welcome Student : karan\n",
      "You get 45 % marks in previous examination\n",
      "Very very congrautation...\n"
     ]
    }
   ],
   "source": [
    "class Student3:\n",
    "    def __init__(self,name,marks):\n",
    "        self.name=name\n",
    "        self.marks=marks\n",
    "    def welcome(self):\n",
    "        print(\"Welcome Student :\",self.name)\n",
    "        print(\"You get\",self.marks,\"% marks in previous examination\")\n",
    "        print('Very very congrautation...')\n",
    "\n",
    "   \n",
    "\n",
    "s1=Student3(\"karan\",45)\n",
    "s1.welcome()"
   ]
  },
  {
   "cell_type": "code",
   "execution_count": 106,
   "id": "868770da-f95c-43ef-a630-96d827f48ebd",
   "metadata": {},
   "outputs": [
    {
     "name": "stdout",
     "output_type": "stream",
     "text": [
      "Govind [99, 98, 97]\n",
      "Hi Govind Your avg score is :  98.0\n"
     ]
    }
   ],
   "source": [
    "class student4:\n",
    "    def __init__(self,name,marks):\n",
    "        self.name=name\n",
    "        self.marks=marks\n",
    "\n",
    "    def avg_marks(self):\n",
    "        sum=0\n",
    "        for i in self.marks:\n",
    "            sum+=i\n",
    "        print(\"Hi\",self.name,\"Your avg score is : \",sum/3)\n",
    "\n",
    "s1=student4(\"Govind\",[99,98,97])\n",
    "print(s1.name,s1.marks)\n",
    "s1.avg_marks()"
   ]
  },
  {
   "cell_type": "code",
   "execution_count": 116,
   "id": "e4364df6-596e-4f47-bffa-3d9bc17762db",
   "metadata": {},
   "outputs": [
    {
     "name": "stdout",
     "output_type": "stream",
     "text": [
      "Learning Static Methods \n",
      "VIIT Baramati\n"
     ]
    }
   ],
   "source": [
    "print(\"Learning Static Methods \" )\n",
    "\n",
    "class student5:\n",
    "    @staticmethod\n",
    "    def collage():\n",
    "        print(\"VIIT Baramati\")\n",
    "\n",
    "s1=student5()\n",
    "s1.collage()"
   ]
  },
  {
   "cell_type": "code",
   "execution_count": 156,
   "id": "4a30bf8a-4afc-41ec-a59a-695560dc12d3",
   "metadata": {},
   "outputs": [
    {
     "name": "stdout",
     "output_type": "stream",
     "text": [
      "Practice question 2\n",
      "Rs. 500 Was debited from your account\n",
      "RS. 750 was credit in your account\n",
      "Total Balance of your account is :  10250\n"
     ]
    }
   ],
   "source": [
    "print(\"Practice question 2\")\n",
    "\n",
    "class Accounts:\n",
    "    def __init__(self,bal,accNo):\n",
    "        self.balance=bal\n",
    "        self.accNo=accNo\n",
    "\n",
    "    def debit(self,amount):\n",
    "        self.balance-=amount\n",
    "        print(\"Rs.\",amount,\"Was debited from your account\")\n",
    "\n",
    "    def credit(self,amount):\n",
    "        self.balance+=amount\n",
    "        print(\"RS.\",amount,\"was credit in your account\")\n",
    "    # @staticmethod\n",
    "    def total(self):\n",
    "        self.balance\n",
    "        print(\"Total Balance of your account is : \",self.balance)\n",
    "\n",
    "a=Accounts(10000,12345)\n",
    "a.balance,a.accNo\n",
    "a.debit(500)\n",
    "a.balance\n",
    "a.credit(750)\n",
    "a.balance\n",
    "a.total()\n"
   ]
  },
  {
   "cell_type": "code",
   "execution_count": 3,
   "id": "cf6e12f8-0ee0-4c1f-baf4-b49d61666956",
   "metadata": {},
   "outputs": [
    {
     "name": "stdout",
     "output_type": "stream",
     "text": [
      "9646324351\n"
     ]
    }
   ],
   "source": [
    "class Solution(object):\n",
    "    def reverse(self, x):\n",
    "        sign=-1 if x < 0 else 1\n",
    "        rev=str(abs(x))[::-1]\n",
    "        return sign * int(rev)\n",
    "\n",
    "s=Solution()\n",
    "print(s.reverse(1534236469))\n",
    "        "
   ]
  },
  {
   "cell_type": "code",
   "execution_count": null,
   "id": "94fc576f-c6ff-4876-b1e3-ac970bcdd803",
   "metadata": {},
   "outputs": [],
   "source": []
  },
  {
   "cell_type": "code",
   "execution_count": null,
   "id": "a0d7f2a5-50d1-4a79-842c-dfcc5def2fe9",
   "metadata": {},
   "outputs": [],
   "source": []
  },
  {
   "cell_type": "code",
   "execution_count": null,
   "id": "1dc5bc92-08f4-450e-9ee7-916bae06abd9",
   "metadata": {},
   "outputs": [],
   "source": []
  }
 ],
 "metadata": {
  "kernelspec": {
   "display_name": "Python [conda env:base] *",
   "language": "python",
   "name": "conda-base-py"
  },
  "language_info": {
   "codemirror_mode": {
    "name": "ipython",
    "version": 3
   },
   "file_extension": ".py",
   "mimetype": "text/x-python",
   "name": "python",
   "nbconvert_exporter": "python",
   "pygments_lexer": "ipython3",
   "version": "3.12.7"
  }
 },
 "nbformat": 4,
 "nbformat_minor": 5
}
