{
 "cells": [
  {
   "cell_type": "code",
   "execution_count": null,
   "id": "df26eaee-a2c6-4180-9db3-0c5391aaf830",
   "metadata": {},
   "outputs": [],
   "source": []
  }
 ],
 "metadata": {
  "kernelspec": {
   "display_name": "",
   "name": ""
  },
  "language_info": {
   "name": ""
  }
 },
 "nbformat": 4,
 "nbformat_minor": 5
}
