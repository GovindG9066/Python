{
 "cells": [
  {
   "cell_type": "code",
   "execution_count": 3,
   "id": "ab17fd61-ccc4-4dbf-85c2-84601ff2ef2f",
   "metadata": {},
   "outputs": [
    {
     "name": "stdout",
     "output_type": "stream",
     "text": [
      "OOPS concepts\n"
     ]
    }
   ],
   "source": [
    "print(\"OOPS concepts\")"
   ]
  },
  {
   "cell_type": "code",
   "execution_count": null,
   "id": "7dab4021-3e21-4b86-a152-7746a5be63e5",
   "metadata": {},
   "outputs": [],
   "source": []
  }
 ],
 "metadata": {
  "kernelspec": {
   "display_name": "Python [conda env:base] *",
   "language": "python",
   "name": "conda-base-py"
  },
  "language_info": {
   "codemirror_mode": {
    "name": "ipython",
    "version": 3
   },
   "file_extension": ".py",
   "mimetype": "text/x-python",
   "name": "python",
   "nbconvert_exporter": "python",
   "pygments_lexer": "ipython3",
   "version": "3.12.7"
  }
 },
 "nbformat": 4,
 "nbformat_minor": 5
}
