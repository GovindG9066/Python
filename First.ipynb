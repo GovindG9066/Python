{
 "cells": [
  {
   "cell_type": "code",
   "execution_count": 3,
   "id": "bb46c6d0-f41c-44d1-9446-e00ca5eb3e61",
   "metadata": {},
   "outputs": [
    {
     "name": "stdout",
     "output_type": "stream",
     "text": [
      "Hello World\n"
     ]
    }
   ],
   "source": [
    "print(\"Hello World\")"
   ]
  },
  {
   "cell_type": "code",
   "execution_count": 7,
   "id": "ef0fed2d-ae6c-488e-a028-56fb8d0c9a25",
   "metadata": {},
   "outputs": [
    {
     "name": "stdout",
     "output_type": "stream",
     "text": [
      "Govind Gadekar\n"
     ]
    }
   ],
   "source": [
    "a=\"Govind \"\n",
    "b=\"Gadekar\"\n",
    "\n",
    "print(a+b)"
   ]
  },
  {
   "cell_type": "code",
   "execution_count": 13,
   "id": "9390a96e-26d1-4417-b7c6-5c4e7a6678a2",
   "metadata": {},
   "outputs": [
    {
     "name": "stdout",
     "output_type": "stream",
     "text": [
      "12\n"
     ]
    }
   ],
   "source": [
    "a=5 \n",
    "b=7\n",
    "print(a+b)"
   ]
  },
  {
   "cell_type": "code",
   "execution_count": 17,
   "id": "03a6d7fe-54f2-4e0d-b3aa-25474eef929b",
   "metadata": {},
   "outputs": [
    {
     "name": "stdout",
     "output_type": "stream",
     "text": [
      "Govind 21 99.32\n"
     ]
    }
   ],
   "source": [
    "name=\"Govind\"\n",
    "aga=21\n",
    "price= 99.32\n",
    "\n",
    "print(name,aga,price)"
   ]
  },
  {
   "cell_type": "code",
   "execution_count": 19,
   "id": "0785c5d5-6516-4418-80e2-a38630a0c344",
   "metadata": {},
   "outputs": [
    {
     "name": "stdout",
     "output_type": "stream",
     "text": [
      "<class 'str'>\n",
      "<class 'int'>\n",
      "<class 'float'>\n",
      "<class 'bool'>\n"
     ]
    }
   ],
   "source": [
    "a=\"Govind\"\n",
    "b=5\n",
    "c=44.23\n",
    "d=True\n",
    "\n",
    "print(type(a))\n",
    "print(type(b))\n",
    "print(type(c))\n",
    "print(type(d))"
   ]
  },
  {
   "cell_type": "code",
   "execution_count": 21,
   "id": "af7b64b8-a4c0-4e1d-a1e7-11e93f1b63c7",
   "metadata": {},
   "outputs": [
    {
     "name": "stdin",
     "output_type": "stream",
     "text": [
      "Enter the Name :  Govind\n"
     ]
    },
    {
     "name": "stdout",
     "output_type": "stream",
     "text": [
      "Hello  Govind\n"
     ]
    }
   ],
   "source": [
    "name=input(\"Enter the Name : \")\n",
    "\n",
    "print(\"Hello \",name)"
   ]
  },
  {
   "cell_type": "code",
   "execution_count": 25,
   "id": "1b0d7927-3d7b-44ae-a2b5-cfe73a68346d",
   "metadata": {},
   "outputs": [
    {
     "name": "stdin",
     "output_type": "stream",
     "text": [
      "Enter a Name :  Govind\n",
      "Enter the Age :  21\n"
     ]
    },
    {
     "name": "stdout",
     "output_type": "stream",
     "text": [
      "Hello My name is  Govind  and my age is  21\n"
     ]
    }
   ],
   "source": [
    "name=input(\"Enter a Name : \")\n",
    "age=int(input(\"Enter the Age : \"))\n",
    "\n",
    "print(\"Hello My name is \",name,\" and my age is \",age)\n",
    "        "
   ]
  },
  {
   "cell_type": "code",
   "execution_count": 35,
   "id": "193c31c6-d096-41b4-a7f2-e3467502175e",
   "metadata": {},
   "outputs": [
    {
     "name": "stdin",
     "output_type": "stream",
     "text": [
      "Enter the age:  21\n"
     ]
    },
    {
     "name": "stdout",
     "output_type": "stream",
     "text": [
      "You are an Younger\n"
     ]
    }
   ],
   "source": [
    "age=int(input(\"Enter the age: \"))\n",
    "\n",
    "if age >= 18:\n",
    "    print(\"You are an Younger\")\n",
    "else:\n",
    "    print(\"You are an adult\")"
   ]
  },
  {
   "cell_type": "code",
   "execution_count": 37,
   "id": "18276fa9-dfa0-445c-9acb-61875904ac04",
   "metadata": {},
   "outputs": [
    {
     "name": "stdout",
     "output_type": "stream",
     "text": [
      "0\n",
      "1\n",
      "2\n",
      "3\n",
      "4\n"
     ]
    }
   ],
   "source": [
    "for i in range(5):\n",
    "    print(i)"
   ]
  },
  {
   "cell_type": "code",
   "execution_count": 7,
   "id": "54ed4f83-a65f-4275-82d8-535ff1984a21",
   "metadata": {},
   "outputs": [
    {
     "name": "stdout",
     "output_type": "stream",
     "text": [
      "0\n",
      "1\n",
      "2\n",
      "3\n",
      "4\n"
     ]
    }
   ],
   "source": [
    "count=0\n",
    "\n",
    "while count < 5:\n",
    "    print(count)\n",
    "    count += 1"
   ]
  },
  {
   "cell_type": "code",
   "execution_count": 11,
   "id": "58e68ae8-cf9c-4e72-afc8-79361720fbd8",
   "metadata": {},
   "outputs": [
    {
     "name": "stdout",
     "output_type": "stream",
     "text": [
      "sum :  30\n",
      "sub :  -10\n",
      "Product :  200\n",
      "Division :  0.5\n",
      "Module :  10\n"
     ]
    }
   ],
   "source": [
    "a=10\n",
    "b=20\n",
    "print(\"sum : \",a+b)\n",
    "print(\"sub : \",a-b)\n",
    "print(\"Product : \",a*b)\n",
    "print(\"Division : \",a/b)\n",
    "print(\"Module : \",a%b)"
   ]
  },
  {
   "cell_type": "code",
   "execution_count": 15,
   "id": "70045813-3732-4f67-a777-308950d029e0",
   "metadata": {},
   "outputs": [
    {
     "name": "stdout",
     "output_type": "stream",
     "text": [
      "5\n",
      "4\n",
      "3\n",
      "2\n",
      "1\n"
     ]
    }
   ],
   "source": [
    "num=5\n",
    "\n",
    "while num>=1:\n",
    "    print(num)\n",
    "    num -= 1"
   ]
  },
  {
   "cell_type": "code",
   "execution_count": null,
   "id": "9b79599c-be5e-4b23-8e88-e583f639e419",
   "metadata": {},
   "outputs": [],
   "source": []
  }
 ],
 "metadata": {
  "kernelspec": {
   "display_name": "Python [conda env:base] *",
   "language": "python",
   "name": "conda-base-py"
  },
  "language_info": {
   "codemirror_mode": {
    "name": "ipython",
    "version": 3
   },
   "file_extension": ".py",
   "mimetype": "text/x-python",
   "name": "python",
   "nbconvert_exporter": "python",
   "pygments_lexer": "ipython3",
   "version": "3.12.7"
  }
 },
 "nbformat": 4,
 "nbformat_minor": 5
}
