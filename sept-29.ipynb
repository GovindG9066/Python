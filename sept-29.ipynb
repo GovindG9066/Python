{
 "cells": [
  {
   "cell_type": "code",
   "execution_count": null,
   "id": "d62e8059-4b81-4dbf-b790-4e8bbbfb7904",
   "metadata": {},
   "outputs": [],
   "source": []
  }
 ],
 "metadata": {
  "kernelspec": {
   "display_name": "",
   "name": ""
  },
  "language_info": {
   "name": ""
  }
 },
 "nbformat": 4,
 "nbformat_minor": 5
}
