{
 "cells": [
  {
   "cell_type": "code",
   "execution_count": 1,
   "id": "d62e8059-4b81-4dbf-b790-4e8bbbfb7904",
   "metadata": {},
   "outputs": [
    {
     "name": "stdout",
     "output_type": "stream",
     "text": [
      "Sept-29\n"
     ]
    }
   ],
   "source": [
    "print(\"Sept-29\")"
   ]
  },
  {
   "cell_type": "code",
   "execution_count": 15,
   "id": "3ef43f48-1017-4e93-8412-f880036d4d1e",
   "metadata": {},
   "outputs": [
    {
     "name": "stdout",
     "output_type": "stream",
     "text": [
      "121 is Palandrome number\n"
     ]
    }
   ],
   "source": [
    "class solution:\n",
    "    def __init__(self,num):\n",
    "        self.num=num\n",
    "\n",
    "    def palandrome(self):\n",
    "        original=self.num\n",
    "        rev=0\n",
    "        num=self.num\n",
    "        while num != 0:\n",
    "            digit=num%10\n",
    "            rev=rev*10+digit\n",
    "            num=num//10\n",
    "        if rev==original:\n",
    "            print(rev,\"is Palandrome number\")\n",
    "        else:\n",
    "            print(rev,\"is not an palandrome number\")\n",
    "\n",
    "s=solution(121)\n",
    "s.palandrome()\n",
    "\n",
    "            "
   ]
  },
  {
   "cell_type": "code",
   "execution_count": null,
   "id": "ce4efe9b-c83d-4712-86ba-ddc0eeb754e5",
   "metadata": {},
   "outputs": [],
   "source": []
  }
 ],
 "metadata": {
  "kernelspec": {
   "display_name": "Python [conda env:base] *",
   "language": "python",
   "name": "conda-base-py"
  },
  "language_info": {
   "codemirror_mode": {
    "name": "ipython",
    "version": 3
   },
   "file_extension": ".py",
   "mimetype": "text/x-python",
   "name": "python",
   "nbconvert_exporter": "python",
   "pygments_lexer": "ipython3",
   "version": "3.12.7"
  }
 },
 "nbformat": 4,
 "nbformat_minor": 5
}
