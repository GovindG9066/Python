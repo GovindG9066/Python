{
 "cells": [
  {
   "cell_type": "code",
   "execution_count": 1,
   "id": "9e385ea6-387e-4e8c-9ba9-a55c24ec3cb1",
   "metadata": {},
   "outputs": [
    {
     "name": "stdout",
     "output_type": "stream",
     "text": [
      "Oct 1\n"
     ]
    }
   ],
   "source": [
    "print(\"Oct 1\")"
   ]
  },
  {
   "cell_type": "code",
   "execution_count": 5,
   "id": "4bf54cb4-0e8f-46fd-b744-36089dcab17a",
   "metadata": {},
   "outputs": [
    {
     "name": "stdout",
     "output_type": "stream",
     "text": [
      "star pattern right angle triangle :\n",
      "\n",
      "* \n",
      "* * \n",
      "* * * \n",
      "* * * * \n",
      "* * * * * \n"
     ]
    }
   ],
   "source": [
    "print(\"star pattern right angle triangle :\")\n",
    "count=5\n",
    "for i in range(count+1):\n",
    "    print(\"* \" * i)"
   ]
  },
  {
   "cell_type": "code",
   "execution_count": 19,
   "id": "5552daf6-4b4d-40f1-9c80-5c060904991e",
   "metadata": {},
   "outputs": [
    {
     "name": "stdout",
     "output_type": "stream",
     "text": [
      "Up side down right angle triangle :\n",
      "* * * * * \n",
      "* * * * \n",
      "* * * \n",
      "* * \n",
      "* \n",
      "\n"
     ]
    }
   ],
   "source": [
    "print(\"Up side down right angle triangle :\")\n",
    "count=5\n",
    "for i in range(count+1):\n",
    "    print(\"* \" * (count-i))"
   ]
  },
  {
   "cell_type": "code",
   "execution_count": 21,
   "id": "f798134d-2676-4990-ba1a-a40c8dccefb3",
   "metadata": {},
   "outputs": [
    {
     "name": "stdout",
     "output_type": "stream",
     "text": [
      "flip right angle triangle : \n",
      "          \n",
      "        * \n",
      "      * * \n",
      "    * * * \n",
      "  * * * * \n",
      "* * * * * \n"
     ]
    }
   ],
   "source": [
    "print(\"flip right angle triangle : \")\n",
    "count=5\n",
    "for i in range(count+1):\n",
    "    print(\"  \" * (count-i) + \"* \" * i)"
   ]
  },
  {
   "cell_type": "code",
   "execution_count": 23,
   "id": "14f8aa11-defd-4bdd-b88e-8dc565b605f0",
   "metadata": {},
   "outputs": [
    {
     "name": "stdout",
     "output_type": "stream",
     "text": [
      "Flip up side down right angle triangle : \n",
      "* * * * * \n",
      "  * * * * \n",
      "    * * * \n",
      "      * * \n",
      "        * \n",
      "          \n"
     ]
    }
   ],
   "source": [
    "print(\"Flip up side down right angle triangle : \")\n",
    "count=5\n",
    "for i in range(count+1):\n",
    "    print(\"  \" * i + \"* \" * (count-i))"
   ]
  },
  {
   "cell_type": "code",
   "execution_count": 25,
   "id": "50a0c5ad-4bc4-4258-a8f6-3cd2bd564ea3",
   "metadata": {},
   "outputs": [
    {
     "name": "stdout",
     "output_type": "stream",
     "text": [
      "Pyramid triangle without diagonal : \n",
      "     \n",
      "    * \n",
      "   * * \n",
      "  * * * \n",
      " * * * * \n",
      "* * * * * \n"
     ]
    }
   ],
   "source": [
    "print(\"Pyramid triangle without diagonal : \")\n",
    "count=5\n",
    "for i in range(count+1):\n",
    "    print(\" \" * (count-i) + \"* \" * i)"
   ]
  },
  {
   "cell_type": "code",
   "execution_count": null,
   "id": "7def10c4-28f0-4b70-af70-4a16100db889",
   "metadata": {},
   "outputs": [],
   "source": []
  }
 ],
 "metadata": {
  "kernelspec": {
   "display_name": "Python [conda env:base] *",
   "language": "python",
   "name": "conda-base-py"
  },
  "language_info": {
   "codemirror_mode": {
    "name": "ipython",
    "version": 3
   },
   "file_extension": ".py",
   "mimetype": "text/x-python",
   "name": "python",
   "nbconvert_exporter": "python",
   "pygments_lexer": "ipython3",
   "version": "3.12.7"
  }
 },
 "nbformat": 4,
 "nbformat_minor": 5
}
