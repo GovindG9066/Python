{
 "cells": [
  {
   "cell_type": "code",
   "execution_count": 1,
   "id": "9a3bb251-3a20-4b93-86d6-05b43ece33b4",
   "metadata": {},
   "outputs": [
    {
     "name": "stdout",
     "output_type": "stream",
     "text": [
      "Hello Python\n"
     ]
    }
   ],
   "source": [
    "print(\"Hello Python\")"
   ]
  },
  {
   "cell_type": "code",
   "execution_count": 23,
   "id": "3f6374a3-affd-47ce-b081-3f4a747626d9",
   "metadata": {},
   "outputs": [
    {
     "name": "stdout",
     "output_type": "stream",
     "text": [
      "Swipe 2 number without using 3rd variable : \n",
      "\n",
      "5\n",
      "4\n",
      "After Swipe the numbers : \n",
      "\n",
      "4\n",
      "5\n"
     ]
    }
   ],
   "source": [
    "print(\"Swipe 2 number without using 3rd variable : \\n\")\n",
    "\n",
    "first=5\n",
    "second=4\n",
    "\n",
    "print(first)\n",
    "print(second)\n",
    "\n",
    "first=first+second\n",
    "second=first-second\n",
    "first=first-second\n",
    "\n",
    "print(\"After Swipe the numbers : \\n\")\n",
    "\n",
    "print(first)\n",
    "print(second)"
   ]
  },
  {
   "cell_type": "code",
   "execution_count": 25,
   "id": "05ce694c-49eb-4f90-b33d-a41260f2f559",
   "metadata": {},
   "outputs": [
    {
     "name": "stdout",
     "output_type": "stream",
     "text": [
      "ABC\n"
     ]
    }
   ],
   "source": [
    "print(\"ABC\")"
   ]
  },
  {
   "cell_type": "code",
   "execution_count": null,
   "id": "9e4014aa-ac4d-4768-bbc9-ad98c8842b9e",
   "metadata": {},
   "outputs": [],
   "source": []
  }
 ],
 "metadata": {
  "kernelspec": {
   "display_name": "Python [conda env:base] *",
   "language": "python",
   "name": "conda-base-py"
  },
  "language_info": {
   "codemirror_mode": {
    "name": "ipython",
    "version": 3
   },
   "file_extension": ".py",
   "mimetype": "text/x-python",
   "name": "python",
   "nbconvert_exporter": "python",
   "pygments_lexer": "ipython3",
   "version": "3.12.7"
  }
 },
 "nbformat": 4,
 "nbformat_minor": 5
}
