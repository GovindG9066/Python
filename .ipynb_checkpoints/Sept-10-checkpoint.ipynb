{
 "cells": [
  {
   "cell_type": "code",
   "execution_count": 1,
   "id": "f18c4951-b58e-4dc9-b3c6-1d6214d90194",
   "metadata": {},
   "outputs": [
    {
     "name": "stdout",
     "output_type": "stream",
     "text": [
      "sept-10\n"
     ]
    }
   ],
   "source": [
    "print(\"sept-10\")"
   ]
  },
  {
   "cell_type": "code",
   "execution_count": 13,
   "id": "767a2269-1b50-4d2e-92d3-21c91483f647",
   "metadata": {},
   "outputs": [
    {
     "name": "stdout",
     "output_type": "stream",
     "text": [
      "swipe 2 numbers using 3rd variable and without using 3rd variable : \n",
      "\n",
      "swipe : \n",
      "\n",
      "40\n",
      "62\n",
      "\n",
      "\n",
      "62\n",
      "40\n",
      "\n",
      "\n",
      "without using 3rd variable : \n",
      "65\n",
      "68\n",
      "\n",
      "\n",
      "68\n",
      "65\n"
     ]
    }
   ],
   "source": [
    "print(\"swipe 2 numbers using 3rd variable and without using 3rd variable : \\n\")\n",
    "\n",
    "print(\"swipe : \\n\")\n",
    "\n",
    "first=40\n",
    "second=62\n",
    "\n",
    "print(first)\n",
    "print(second)\n",
    "print(\"\\n\")\n",
    "\n",
    "third=first\n",
    "first=second\n",
    "second=third\n",
    "\n",
    "print(first)\n",
    "print(second)\n",
    "print(\"\\n\")\n",
    "\n",
    "print(\"without using 3rd variable : \")\n",
    "\n",
    "first1=65\n",
    "second2=68\n",
    "\n",
    "print(first1)\n",
    "print(second2)\n",
    "print(\"\\n\")\n",
    "\n",
    "first1=first1+second2\n",
    "second2=first1-second2\n",
    "first1=first1-second2\n",
    "\n",
    "print(first1)\n",
    "print(second2)"
   ]
  },
  {
   "cell_type": "code",
   "execution_count": null,
   "id": "b979b32d-a385-4e0c-9dbc-3e42af7bab1f",
   "metadata": {},
   "outputs": [],
   "source": []
  }
 ],
 "metadata": {
  "kernelspec": {
   "display_name": "Python [conda env:base] *",
   "language": "python",
   "name": "conda-base-py"
  },
  "language_info": {
   "codemirror_mode": {
    "name": "ipython",
    "version": 3
   },
   "file_extension": ".py",
   "mimetype": "text/x-python",
   "name": "python",
   "nbconvert_exporter": "python",
   "pygments_lexer": "ipython3",
   "version": "3.12.7"
  }
 },
 "nbformat": 4,
 "nbformat_minor": 5
}
