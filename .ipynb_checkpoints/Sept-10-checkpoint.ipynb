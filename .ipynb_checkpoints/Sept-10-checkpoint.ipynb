{
 "cells": [
  {
   "cell_type": "code",
   "execution_count": 1,
   "id": "f18c4951-b58e-4dc9-b3c6-1d6214d90194",
   "metadata": {},
   "outputs": [
    {
     "name": "stdout",
     "output_type": "stream",
     "text": [
      "sept-10\n"
     ]
    }
   ],
   "source": [
    "print(\"sept-10\")"
   ]
  },
  {
   "cell_type": "code",
   "execution_count": 13,
   "id": "767a2269-1b50-4d2e-92d3-21c91483f647",
   "metadata": {},
   "outputs": [
    {
     "name": "stdout",
     "output_type": "stream",
     "text": [
      "swipe 2 numbers using 3rd variable and without using 3rd variable : \n",
      "\n",
      "swipe : \n",
      "\n",
      "40\n",
      "62\n",
      "\n",
      "\n",
      "62\n",
      "40\n",
      "\n",
      "\n",
      "without using 3rd variable : \n",
      "65\n",
      "68\n",
      "\n",
      "\n",
      "68\n",
      "65\n"
     ]
    }
   ],
   "source": [
    "print(\"swipe 2 numbers using 3rd variable and without using 3rd variable : \\n\")\n",
    "\n",
    "print(\"swipe : \\n\")\n",
    "\n",
    "first=40\n",
    "second=62\n",
    "\n",
    "print(first)\n",
    "print(second)\n",
    "print(\"\\n\")\n",
    "\n",
    "third=first\n",
    "first=second\n",
    "second=third\n",
    "\n",
    "print(first)\n",
    "print(second)\n",
    "print(\"\\n\")\n",
    "\n",
    "print(\"without using 3rd variable : \")\n",
    "\n",
    "first1=65\n",
    "second2=68\n",
    "\n",
    "print(first1)\n",
    "print(second2)\n",
    "print(\"\\n\")\n",
    "\n",
    "first1=first1+second2\n",
    "second2=first1-second2\n",
    "first1=first1-second2\n",
    "\n",
    "print(first1)\n",
    "print(second2)"
   ]
  },
  {
   "cell_type": "code",
   "execution_count": 21,
   "id": "b979b32d-a385-4e0c-9dbc-3e42af7bab1f",
   "metadata": {},
   "outputs": [
    {
     "name": "stdout",
     "output_type": "stream",
     "text": [
      "Fib series: \n",
      "\n",
      "0\n",
      "1\n",
      "1\n",
      "2\n",
      "3\n",
      "5\n",
      "8\n",
      "13\n",
      "21\n",
      "34\n"
     ]
    }
   ],
   "source": [
    "print(\"Fib series: \\n\")\n",
    "\n",
    "fib1=0\n",
    "fib2=1\n",
    "\n",
    "print(fib1)\n",
    "print(fib2)\n",
    "\n",
    "count=10\n",
    "\n",
    "while count != 2:\n",
    "    Next=fib1+fib2\n",
    "    print(Next)\n",
    "    fib1=fib2\n",
    "    fib2=Next\n",
    "\n",
    "    count-=1\n",
    "\n",
    "\n",
    "    "
   ]
  },
  {
   "cell_type": "code",
   "execution_count": 29,
   "id": "88502689-4f0d-4f64-a528-0798db8a21b2",
   "metadata": {},
   "outputs": [
    {
     "name": "stdout",
     "output_type": "stream",
     "text": [
      "Factor of the number : \n",
      "\n",
      "1\n",
      "2\n",
      "5\n"
     ]
    }
   ],
   "source": [
    "print(\"Factor of the number : \\n\")\n",
    "\n",
    "num=10\n",
    "\n",
    "for i in range(1,num):\n",
    "    if num % i==0:\n",
    "        print(i)"
   ]
  },
  {
   "cell_type": "code",
   "execution_count": 41,
   "id": "898b6bbb-1fd9-4fbb-8a8c-0bad6b67ae62",
   "metadata": {},
   "outputs": [
    {
     "name": "stdout",
     "output_type": "stream",
     "text": [
      "factorial of the number : \n",
      "\n",
      "120\n"
     ]
    }
   ],
   "source": [
    "print(\"factorial of the number : \\n\")\n",
    "\n",
    "num=5\n",
    "fact=1\n",
    "\n",
    "for i in range(1,num+1):\n",
    "    fact*=i\n",
    "\n",
    "print(fact)"
   ]
  },
  {
   "cell_type": "code",
   "execution_count": null,
   "id": "87b8e981-f4c1-4f3f-8070-41bd1ca8e42e",
   "metadata": {},
   "outputs": [],
   "source": []
  }
 ],
 "metadata": {
  "kernelspec": {
   "display_name": "Python [conda env:base] *",
   "language": "python",
   "name": "conda-base-py"
  },
  "language_info": {
   "codemirror_mode": {
    "name": "ipython",
    "version": 3
   },
   "file_extension": ".py",
   "mimetype": "text/x-python",
   "name": "python",
   "nbconvert_exporter": "python",
   "pygments_lexer": "ipython3",
   "version": "3.12.7"
  }
 },
 "nbformat": 4,
 "nbformat_minor": 5
}
