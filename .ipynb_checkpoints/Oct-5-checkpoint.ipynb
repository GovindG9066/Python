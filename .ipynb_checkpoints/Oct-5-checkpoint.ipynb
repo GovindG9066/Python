{
 "cells": [
  {
   "cell_type": "code",
   "execution_count": 1,
   "id": "08c0277f-589f-4a9b-a8c2-1011461264a3",
   "metadata": {},
   "outputs": [
    {
     "name": "stdout",
     "output_type": "stream",
     "text": [
      "Oct-5\n"
     ]
    }
   ],
   "source": [
    "print(\"Oct-5\")"
   ]
  },
  {
   "cell_type": "code",
   "execution_count": 11,
   "id": "0acc6ccc-8d78-4352-9124-48e272d303a4",
   "metadata": {},
   "outputs": [
    {
     "name": "stdout",
     "output_type": "stream",
     "text": [
      "Sum of first 5 numbers is: 15\n"
     ]
    }
   ],
   "source": [
    "def sum_of_numbers(n):\n",
    "    # Base case\n",
    "    if n == 1:\n",
    "        return 1\n",
    "    # Recursive case\n",
    "    return n + sum_of_numbers(n - 1)\n",
    "\n",
    "# Call the function\n",
    "result = sum_of_numbers(5)\n",
    "print(\"Sum of first 5 numbers is:\", result)\n"
   ]
  },
  {
   "cell_type": "code",
   "execution_count": null,
   "id": "69a12b80-44c1-422f-8f37-33919b993abd",
   "metadata": {},
   "outputs": [],
   "source": []
  }
 ],
 "metadata": {
  "kernelspec": {
   "display_name": "Python [conda env:base] *",
   "language": "python",
   "name": "conda-base-py"
  },
  "language_info": {
   "codemirror_mode": {
    "name": "ipython",
    "version": 3
   },
   "file_extension": ".py",
   "mimetype": "text/x-python",
   "name": "python",
   "nbconvert_exporter": "python",
   "pygments_lexer": "ipython3",
   "version": "3.12.7"
  }
 },
 "nbformat": 4,
 "nbformat_minor": 5
}
