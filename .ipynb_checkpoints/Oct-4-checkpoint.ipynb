{
 "cells": [
  {
   "cell_type": "code",
   "execution_count": 1,
   "id": "df26eaee-a2c6-4180-9db3-0c5391aaf830",
   "metadata": {},
   "outputs": [
    {
     "name": "stdout",
     "output_type": "stream",
     "text": [
      "Oct-4\n"
     ]
    }
   ],
   "source": [
    "print(\"Oct-4\")"
   ]
  },
  {
   "cell_type": "code",
   "execution_count": 5,
   "id": "3110f7b0-089f-4dbf-900c-7e95efc9511e",
   "metadata": {},
   "outputs": [
    {
     "name": "stdout",
     "output_type": "stream",
     "text": [
      "Swipe 2 numbers without using 3rd variable : \n",
      "Before Swipe : \n",
      "49\n",
      "33\n",
      "After Swipe : \n",
      "33\n",
      "49\n"
     ]
    }
   ],
   "source": [
    "print(\"Swipe 2 numbers without using 3rd variable : \")\n",
    "print(\"Before Swipe : \")\n",
    "first=49\n",
    "second=33\n",
    "print(first)\n",
    "print(second)\n",
    "print(\"After Swipe : \")\n",
    "\n",
    "first=first+second\n",
    "second=first-second\n",
    "first=first-second\n",
    "\n",
    "print(first)\n",
    "print(second)"
   ]
  },
  {
   "cell_type": "code",
   "execution_count": 11,
   "id": "fb7b61cc-30b5-4f87-b417-1dd918e257fe",
   "metadata": {},
   "outputs": [
    {
     "name": "stdout",
     "output_type": "stream",
     "text": [
      "Reverse of the Number Program : \n",
      "Original Number :  4565\n",
      "Reverse of the number :  5654\n"
     ]
    }
   ],
   "source": [
    "print(\"Reverse of the Number Program : \")\n",
    "num=4565\n",
    "print(\"Original Number : \",num)\n",
    "rev=0\n",
    "while num != 0:\n",
    "    digit=num % 10\n",
    "    rev=rev*10+digit\n",
    "    num=num//10\n",
    "\n",
    "print(\"Reverse of the number : \",rev)"
   ]
  },
  {
   "cell_type": "code",
   "execution_count": 15,
   "id": "b01685a4-67b7-46e2-9063-fd7f0c0949aa",
   "metadata": {},
   "outputs": [
    {
     "name": "stdout",
     "output_type": "stream",
     "text": [
      "Palandrome Number : \n",
      "15851  is palandrome number \n"
     ]
    }
   ],
   "source": [
    "print(\"Palandrome Number : \")\n",
    "num=15851\n",
    "original=num\n",
    "rev=0\n",
    "while num != 0 :\n",
    "    digit=num % 10\n",
    "    rev=rev * 10 +digit\n",
    "    num=num // 10\n",
    "\n",
    "if original == rev:\n",
    "    print(rev,\" is palandrome number \")\n",
    "\n",
    "else:\n",
    "    print(rev,\" is not palandrome number\")"
   ]
  },
  {
   "cell_type": "code",
   "execution_count": null,
   "id": "a8da2793-0d0b-4c12-903b-fee10b5d3958",
   "metadata": {},
   "outputs": [],
   "source": []
  }
 ],
 "metadata": {
  "kernelspec": {
   "display_name": "Python [conda env:base] *",
   "language": "python",
   "name": "conda-base-py"
  },
  "language_info": {
   "codemirror_mode": {
    "name": "ipython",
    "version": 3
   },
   "file_extension": ".py",
   "mimetype": "text/x-python",
   "name": "python",
   "nbconvert_exporter": "python",
   "pygments_lexer": "ipython3",
   "version": "3.12.7"
  }
 },
 "nbformat": 4,
 "nbformat_minor": 5
}
