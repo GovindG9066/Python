{
 "cells": [
  {
   "cell_type": "code",
   "execution_count": 1,
   "id": "2b0fcfe6-d3a0-45cb-86c6-9c00be0b6779",
   "metadata": {},
   "outputs": [
    {
     "name": "stdout",
     "output_type": "stream",
     "text": [
      "Oct-2\n"
     ]
    }
   ],
   "source": [
    "print(\"Oct-2\")"
   ]
  },
  {
   "cell_type": "code",
   "execution_count": 13,
   "id": "b899f2f4-c742-4319-a4d6-c576ea05e2c3",
   "metadata": {},
   "outputs": [
    {
     "name": "stdout",
     "output_type": "stream",
     "text": [
      "Table of number\n"
     ]
    },
    {
     "name": "stdin",
     "output_type": "stream",
     "text": [
      "Enter the number :  5\n"
     ]
    },
    {
     "name": "stdout",
     "output_type": "stream",
     "text": [
      "5\n",
      "10\n",
      "15\n",
      "20\n",
      "25\n",
      "30\n",
      "35\n",
      "40\n",
      "45\n",
      "50\n"
     ]
    }
   ],
   "source": [
    "print(\"Table of number\")\n",
    "num=int(input(\"Enter the number : \"))\n",
    "\n",
    "count=10\n",
    "\n",
    "for i in range(1,count+1):\n",
    "    print(num*i)\n"
   ]
  },
  {
   "cell_type": "code",
   "execution_count": 23,
   "id": "63d6133b-a1ca-4cb2-a77a-d5d411f50af3",
   "metadata": {},
   "outputs": [
    {
     "name": "stdout",
     "output_type": "stream",
     "text": [
      "first 20 even numbers and odd numbers : \n",
      "2\n",
      "4\n",
      "6\n",
      "8\n",
      "10\n",
      "12\n",
      "14\n",
      "16\n",
      "18\n",
      "20\n",
      "First 20 Odd Number : \n",
      "1\n",
      "3\n",
      "5\n",
      "7\n",
      "9\n",
      "11\n",
      "13\n",
      "15\n",
      "17\n",
      "19\n"
     ]
    }
   ],
   "source": [
    "print(\"first 20 even numbers and odd numbers : \")\n",
    "count=20\n",
    "\n",
    "for i in range(2,count+1,2):\n",
    "    print(i)\n",
    "print(\"First 20 Odd Number : \")\n",
    "for i in range(1,count+1,2):\n",
    "    print(i)"
   ]
  },
  {
   "cell_type": "code",
   "execution_count": 28,
   "id": "de046cd8-706c-473c-9bb0-ba907f96c5c7",
   "metadata": {},
   "outputs": [
    {
     "name": "stdout",
     "output_type": "stream",
     "text": [
      "1\n",
      "5\n"
     ]
    }
   ],
   "source": [
    "print(\"Factor of the number :\")\n",
    "num=5\n",
    "for i in range(1,num+1):\n",
    "    if num % i ==0:\n",
    "        print(i)"
   ]
  },
  {
   "cell_type": "code",
   "execution_count": null,
   "id": "b157cf8f-5577-464a-8b08-cd38314fa869",
   "metadata": {},
   "outputs": [],
   "source": []
  }
 ],
 "metadata": {
  "kernelspec": {
   "display_name": "Python [conda env:base] *",
   "language": "python",
   "name": "conda-base-py"
  },
  "language_info": {
   "codemirror_mode": {
    "name": "ipython",
    "version": 3
   },
   "file_extension": ".py",
   "mimetype": "text/x-python",
   "name": "python",
   "nbconvert_exporter": "python",
   "pygments_lexer": "ipython3",
   "version": "3.12.7"
  }
 },
 "nbformat": 4,
 "nbformat_minor": 5
}
