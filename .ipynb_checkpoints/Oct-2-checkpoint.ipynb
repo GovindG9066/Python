{
 "cells": [
  {
   "cell_type": "code",
   "execution_count": 1,
   "id": "e74e06d2-6e2d-4a13-8a13-d70e424f5ba3",
   "metadata": {},
   "outputs": [
    {
     "name": "stdout",
     "output_type": "stream",
     "text": [
      "Oct-2\n"
     ]
    }
   ],
   "source": [
    "print(\"Oct-2\")"
   ]
  },
  {
   "cell_type": "code",
   "execution_count": 3,
   "id": "ed9751ea-f77c-407a-b6b6-7ec7f18bfc0f",
   "metadata": {},
   "outputs": [
    {
     "name": "stdout",
     "output_type": "stream",
     "text": [
      "Countdown : \n",
      "5\n",
      "4\n",
      "3\n",
      "2\n",
      "1\n"
     ]
    }
   ],
   "source": [
    "print(\"Countdown : \")\n",
    "\n",
    "def countdown(n):\n",
    "    if n==0:\n",
    "        return\n",
    "    print(n)\n",
    "    countdown(n-1)\n",
    "\n",
    "countdown(5)"
   ]
  },
  {
   "cell_type": "code",
   "execution_count": 11,
   "id": "0995762b-6207-41b8-ba0a-a5c5b82b84d9",
   "metadata": {},
   "outputs": [
    {
     "name": "stdout",
     "output_type": "stream",
     "text": [
      "Factorial of the number using recursion : \n"
     ]
    },
    {
     "data": {
      "text/plain": [
       "120"
      ]
     },
     "execution_count": 11,
     "metadata": {},
     "output_type": "execute_result"
    }
   ],
   "source": [
    "print(\"Factorial of the number using recursion : \")\n",
    "def facto(n):\n",
    "    if n==0:\n",
    "        return 1\n",
    "    return n*facto(n-1)\n",
    "    \n",
    "\n",
    "facto(5)"
   ]
  },
  {
   "cell_type": "code",
   "execution_count": null,
   "id": "f5e28a6c-9f6d-4a76-8352-81c7f5621416",
   "metadata": {},
   "outputs": [],
   "source": []
  }
 ],
 "metadata": {
  "kernelspec": {
   "display_name": "Python [conda env:base] *",
   "language": "python",
   "name": "conda-base-py"
  },
  "language_info": {
   "codemirror_mode": {
    "name": "ipython",
    "version": 3
   },
   "file_extension": ".py",
   "mimetype": "text/x-python",
   "name": "python",
   "nbconvert_exporter": "python",
   "pygments_lexer": "ipython3",
   "version": "3.12.7"
  }
 },
 "nbformat": 4,
 "nbformat_minor": 5
}
