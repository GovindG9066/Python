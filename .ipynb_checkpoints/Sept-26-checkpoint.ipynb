{
 "cells": [
  {
   "cell_type": "code",
   "execution_count": 1,
   "id": "c1a4ee67-3556-4199-8174-e5ebd81b203d",
   "metadata": {},
   "outputs": [
    {
     "name": "stdout",
     "output_type": "stream",
     "text": [
      "Sept-26\n"
     ]
    }
   ],
   "source": [
    "print(\"Sept-26\")"
   ]
  },
  {
   "cell_type": "code",
   "execution_count": 33,
   "id": "a1112c49-cba8-4fdd-8400-0e1bbcdb8214",
   "metadata": {},
   "outputs": [
    {
     "name": "stdout",
     "output_type": "stream",
     "text": [
      "* \n",
      "* * \n",
      "* * * \n",
      "* * * * \n",
      "* * * * * \n"
     ]
    }
   ],
   "source": [
    "def rightAngle(num):\n",
    "    if num == 0:\n",
    "        return\n",
    "    rightAngle(num - 1)\n",
    "    print(num * \"* \")\n",
    "\n",
    "rightAngle(5)\n"
   ]
  },
  {
   "cell_type": "code",
   "execution_count": null,
   "id": "bc63efbe-e10b-47ff-8fbd-c91621af34e2",
   "metadata": {},
   "outputs": [],
   "source": []
  }
 ],
 "metadata": {
  "kernelspec": {
   "display_name": "Python [conda env:base] *",
   "language": "python",
   "name": "conda-base-py"
  },
  "language_info": {
   "codemirror_mode": {
    "name": "ipython",
    "version": 3
   },
   "file_extension": ".py",
   "mimetype": "text/x-python",
   "name": "python",
   "nbconvert_exporter": "python",
   "pygments_lexer": "ipython3",
   "version": "3.12.7"
  }
 },
 "nbformat": 4,
 "nbformat_minor": 5
}
