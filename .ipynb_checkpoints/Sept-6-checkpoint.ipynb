{
 "cells": [
  {
   "cell_type": "code",
   "execution_count": 3,
   "id": "37f6f291-7f2a-4bed-8c06-381bd195996c",
   "metadata": {},
   "outputs": [
    {
     "name": "stdout",
     "output_type": "stream",
     "text": [
      "Hello\n"
     ]
    }
   ],
   "source": [
    "print(\"Hello\")"
   ]
  },
  {
   "cell_type": "code",
   "execution_count": 13,
   "id": "65af8b7f-9439-418e-a9c2-893ccdd4731e",
   "metadata": {},
   "outputs": [
    {
     "name": "stdout",
     "output_type": "stream",
     "text": [
      "Palandrome Number : \n",
      "\n",
      "Yes,  12321  is palandrome number\n"
     ]
    }
   ],
   "source": [
    "print(\"Palandrome Number : \")\n",
    "print()\n",
    "\n",
    "num=12321\n",
    "original=num\n",
    "palandrom=0\n",
    "\n",
    "while num != 0:\n",
    "    digit=num % 10\n",
    "    palandrom=palandrom*10+digit\n",
    "    num//=10\n",
    "if original== palandrom:\n",
    "    print(\"Yes, \", palandrom , \" is palandrome number\")\n",
    "else:\n",
    "    print(\"No, \",palandrom,\" is not an palandrome number\")"
   ]
  },
  {
   "cell_type": "code",
   "execution_count": 17,
   "id": "d49cdcab-19db-48fb-96ac-152aa9eb5705",
   "metadata": {},
   "outputs": [
    {
     "name": "stdout",
     "output_type": "stream",
     "text": [
      "dnivoG\n"
     ]
    }
   ],
   "source": [
    "a=\"Govind\"\n",
    "rev_a=\"\"\n",
    "\n",
    "for char in a:\n",
    "    rev_a=char+rev_a\n",
    "print(rev_a)"
   ]
  },
  {
   "cell_type": "code",
   "execution_count": 49,
   "id": "a81fa34a-135e-4e36-8228-00df842a8af1",
   "metadata": {},
   "outputs": [
    {
     "name": "stdout",
     "output_type": "stream",
     "text": [
      "olleH\n"
     ]
    }
   ],
   "source": [
    "text=\"Hello\"\n",
    "rev_text=text[::-1]\n",
    "print(rev_text)"
   ]
  },
  {
   "cell_type": "code",
   "execution_count": null,
   "id": "8d347ebd-4b85-437b-8f45-ea9072fe5bdf",
   "metadata": {},
   "outputs": [],
   "source": []
  }
 ],
 "metadata": {
  "kernelspec": {
   "display_name": "Python [conda env:base] *",
   "language": "python",
   "name": "conda-base-py"
  },
  "language_info": {
   "codemirror_mode": {
    "name": "ipython",
    "version": 3
   },
   "file_extension": ".py",
   "mimetype": "text/x-python",
   "name": "python",
   "nbconvert_exporter": "python",
   "pygments_lexer": "ipython3",
   "version": "3.12.7"
  }
 },
 "nbformat": 4,
 "nbformat_minor": 5
}
